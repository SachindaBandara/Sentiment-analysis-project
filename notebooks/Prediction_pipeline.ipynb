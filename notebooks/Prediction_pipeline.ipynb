{
 "cells": [
  {
   "cell_type": "code",
   "execution_count": 21,
   "id": "d2a5eb3d-fab2-4f98-9a14-25422b20cebc",
   "metadata": {},
   "outputs": [],
   "source": [
    "import numpy as np\n",
    "import pandas as pd\n",
    "import re\n",
    "import string\n",
    "import pickle"
   ]
  },
  {
   "cell_type": "code",
   "execution_count": 25,
   "id": "cb248a4e-3e2b-427c-99f3-8ac76a9917ca",
   "metadata": {},
   "outputs": [],
   "source": [
    "with open('../static/model/model.pickle', 'rb') as f:\n",
    "    model = pickle.load(f)"
   ]
  },
  {
   "cell_type": "code",
   "execution_count": 27,
   "id": "78d0c52f-9c7a-4ca8-8b33-761c79893e3c",
   "metadata": {},
   "outputs": [],
   "source": [
    "with open('../static/model/corpora/stopwords/english', 'r') as file:\n",
    "    sw = file.read().splitlines()"
   ]
  },
  {
   "cell_type": "code",
   "execution_count": 28,
   "id": "92a96190-1fa6-4cb9-9cc9-3e491938699c",
   "metadata": {},
   "outputs": [],
   "source": [
    "vocab = pd.read_csv('../static/model/vocabulary.txt', header = None)\n",
    "tokens = vocab[0].tolist()"
   ]
  },
  {
   "cell_type": "code",
   "execution_count": 8,
   "id": "b5c5ebbd-0b21-4491-88a4-6b3248138c7d",
   "metadata": {},
   "outputs": [],
   "source": [
    "def remove_punctuations(text):\n",
    "    for punctuation in string.punctuation:\n",
    "        text = text.replace(punctuation, '')\n",
    "    return text"
   ]
  },
  {
   "cell_type": "code",
   "execution_count": 11,
   "id": "c02a523c-9c2f-45eb-b158-9bd193b1c94b",
   "metadata": {},
   "outputs": [],
   "source": [
    "from nltk.stem import PorterStemmer\n",
    "ps = PorterStemmer()"
   ]
  },
  {
   "cell_type": "code",
   "execution_count": 12,
   "id": "56315a5d-7f72-41f8-8ac6-d781d51e01c6",
   "metadata": {},
   "outputs": [],
   "source": [
    "def preprocessing(text):\n",
    "    data = pd.DataFrame([text], columns = ['tweet'])\n",
    "    data['tweet'] = data['tweet'].apply(lambda x: \" \".join(x.lower() for x in x.split()))\n",
    "    data['tweet'] = data['tweet'].apply(lambda x: \" \".join(re.sub(r'^https?:\\/\\/.*[\\r\\n]*', ' ', x, flags = re.MULTILINE) for x in x.split()))\n",
    "    data['tweet'] = data['tweet'].apply(remove_punctuations)\n",
    "    data['tweet'] = data['tweet'].str.replace('\\d+', '', regex = True)\n",
    "    data['tweet'] = data['tweet'].apply(lambda x: \" \".join(x for x in x.split() if x not in sw))\n",
    "    data['tweet'] = data['tweet'].apply(lambda x: \" \".join(ps.stem(x) for x in x.split() ))\n",
    "    return data['tweet']"
   ]
  },
  {
   "cell_type": "code",
   "execution_count": 37,
   "id": "600b704a-0773-4a78-8ea0-9f5032db42f5",
   "metadata": {},
   "outputs": [],
   "source": [
    "def vectorizer(ds, vocabulary):\n",
    "    vectorized_list = []\n",
    "    \n",
    "    for  sentence in ds:\n",
    "        sentence_list = np.zeros(len(vocabulary))\n",
    "        for i in range(len(vocabulary)):\n",
    "            if vocabulary[i] in sentence.split():\n",
    "                sentence_list[i] = 1\n",
    "\n",
    "        vectorized_list.append(sentence_list)\n",
    "    vectorized_list_new = np.asarray(vectorized_list, dtype = np.float32)\n",
    "    return vectorized_list_new"
   ]
  },
  {
   "cell_type": "code",
   "execution_count": 46,
   "id": "669444a0-8e30-475c-99ef-cbb8eaef287f",
   "metadata": {},
   "outputs": [],
   "source": [
    "def get_prediction(vectorized_text):\n",
    "    prediction = model.predict(vectorized_text)\n",
    "    if prediction == 1:\n",
    "        return 'Negative'\n",
    "    else:\n",
    "        return 'Positive'"
   ]
  },
  {
   "cell_type": "code",
   "execution_count": 47,
   "id": "7b149a04-3056-4dbc-8dfd-cdae876aa947",
   "metadata": {},
   "outputs": [],
   "source": [
    "text = 'great product and awesome. i like it'\n",
    "preprocessed_text = preprocessing(text)\n",
    "vectorized_text = vectorizer(preprocessed_text, tokens)\n",
    "prediction = get_prediction(vectorized_text)"
   ]
  },
  {
   "cell_type": "code",
   "execution_count": 48,
   "id": "1c52b04b-b494-44c4-b18f-b1125454e10d",
   "metadata": {},
   "outputs": [
    {
     "data": {
      "text/plain": [
       "'Positive'"
      ]
     },
     "execution_count": 48,
     "metadata": {},
     "output_type": "execute_result"
    }
   ],
   "source": [
    "prediction"
   ]
  },
  {
   "cell_type": "code",
   "execution_count": null,
   "id": "27275ac1-1903-4cf9-b8e0-f46bd5be07f8",
   "metadata": {},
   "outputs": [],
   "source": []
  }
 ],
 "metadata": {
  "kernelspec": {
   "display_name": "Python 3 (ipykernel)",
   "language": "python",
   "name": "python3"
  },
  "language_info": {
   "codemirror_mode": {
    "name": "ipython",
    "version": 3
   },
   "file_extension": ".py",
   "mimetype": "text/x-python",
   "name": "python",
   "nbconvert_exporter": "python",
   "pygments_lexer": "ipython3",
   "version": "3.11.4"
  }
 },
 "nbformat": 4,
 "nbformat_minor": 5
}
